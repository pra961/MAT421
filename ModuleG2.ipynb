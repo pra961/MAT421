{
  "nbformat": 4,
  "nbformat_minor": 0,
  "metadata": {
    "colab": {
      "provenance": [],
      "authorship_tag": "ABX9TyMg93T7PgmmCho+/Oh3BIIE",
      "include_colab_link": true
    },
    "kernelspec": {
      "name": "python3",
      "display_name": "Python 3"
    },
    "language_info": {
      "name": "python"
    }
  },
  "cells": [
    {
      "cell_type": "markdown",
      "metadata": {
        "id": "view-in-github",
        "colab_type": "text"
      },
      "source": [
        "<a href=\"https://colab.research.google.com/github/pra961/MAT421/blob/main/ModuleG2.ipynb\" target=\"_parent\"><img src=\"https://colab.research.google.com/assets/colab-badge.svg\" alt=\"Open In Colab\"/></a>"
      ]
    },
    {
      "cell_type": "markdown",
      "source": [
        "# Simpson's Rule"
      ],
      "metadata": {
        "id": "rasZxVRs0UuU"
      }
    },
    {
      "cell_type": "markdown",
      "source": [
        "Given two consecutive subintervals [x_(i-1), x_i] and [x_i, x_(i+1)], Simpson's Rule approximates the area under f(x) over these two subintervals by fitting a quadratic polynomial through the points (x_(i-1), f(x_(i-1))), (x_i, f(x_i)), and (x_(i+1), f(x_(i+1))), which is a unique polynomial, and then integrating the\n",
        "quadratic exactly."
      ],
      "metadata": {
        "id": "DAW5ICNN0bUT"
      }
    },
    {
      "cell_type": "code",
      "execution_count": 2,
      "metadata": {
        "colab": {
          "base_uri": "https://localhost:8080/"
        },
        "id": "ZA8PIErKzmeO",
        "outputId": "61aeeb03-8b9a-415d-c63e-0c96ae8f7056"
      },
      "outputs": [
        {
          "output_type": "stream",
          "name": "stdout",
          "text": [
            "2.0001095173150043\n",
            "-0.00010951731500430384\n"
          ]
        }
      ],
      "source": [
        "import numpy as np\n",
        "\n",
        "a = 0\n",
        "b = np.pi\n",
        "n = 11\n",
        "h = (b - a) / (n - 1)\n",
        "x = np.linspace(a, b, n)\n",
        "f = np.sin(x)\n",
        "I_simp = (h/3) * (f[0] + 2*sum(f[:n-2:2]) + 4*sum(f[1:n-1:2]) + f[n-1])\n",
        "err_simp = 2 - I_simp\n",
        "print(I_simp)\n",
        "print(err_simp)"
      ]
    },
    {
      "cell_type": "markdown",
      "source": [
        "We can see that the result calculated with Simpson's Rule is extremely close to 2."
      ],
      "metadata": {
        "id": "-_tpuif21C3I"
      }
    }
  ]
}