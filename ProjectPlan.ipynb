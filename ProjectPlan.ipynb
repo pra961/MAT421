{
  "nbformat": 4,
  "nbformat_minor": 0,
  "metadata": {
    "colab": {
      "provenance": [],
      "authorship_tag": "ABX9TyMwpoDl67sQtnh7Uu4fnMsm",
      "include_colab_link": true
    },
    "kernelspec": {
      "name": "python3",
      "display_name": "Python 3"
    },
    "language_info": {
      "name": "python"
    }
  },
  "cells": [
    {
      "cell_type": "markdown",
      "metadata": {
        "id": "view-in-github",
        "colab_type": "text"
      },
      "source": [
        "<a href=\"https://colab.research.google.com/github/pra961/MAT421/blob/main/ProjectPlan.ipynb\" target=\"_parent\"><img src=\"https://colab.research.google.com/assets/colab-badge.svg\" alt=\"Open In Colab\"/></a>"
      ]
    },
    {
      "cell_type": "markdown",
      "source": [
        "# Introduction"
      ],
      "metadata": {
        "id": "CnVkbFAj3JRQ"
      }
    },
    {
      "cell_type": "markdown",
      "source": [
        "The goal of this project is to build a logistic regression model to predict which house in a pair of houses is more expensive given information such as number of bedrooms, number of bathrooms, and number of square feet. The dataset is https://www.kaggle.com/datasets/shree1992/housedata"
      ],
      "metadata": {
        "id": "6iRz3vAk3MPz"
      }
    },
    {
      "cell_type": "markdown",
      "source": [
        "# Related Work"
      ],
      "metadata": {
        "id": "J6bIs6tt3f7Z"
      }
    },
    {
      "cell_type": "markdown",
      "source": [
        "This has been tried before on a different Australian dataset: https://ieeexplore.ieee.org/document/9673533\n",
        "\n",
        "They got accuracy between 85% and 100%, but they factored in distance between different neighborhoods."
      ],
      "metadata": {
        "id": "D5TofVq43ihR"
      }
    },
    {
      "cell_type": "markdown",
      "source": [
        "# Proposed Methodology/Models"
      ],
      "metadata": {
        "id": "vtRGmN6F4HNI"
      }
    },
    {
      "cell_type": "markdown",
      "source": [
        "The proposed model is logistic regression. This model predicts the probability that a certain action will take place (in this case, it is whether the first house in the pair is more expensive than the second)."
      ],
      "metadata": {
        "id": "PPoyy78b4N8b"
      }
    },
    {
      "cell_type": "markdown",
      "source": [
        "# Experiment Setup"
      ],
      "metadata": {
        "id": "dBCjkidy5YSy"
      }
    },
    {
      "cell_type": "markdown",
      "source": [
        "Initially, the data will be randomized and split into pairs. The data will further be split into 80% training and 20% testing. A logistic regression model will then be run on the data."
      ],
      "metadata": {
        "id": "zeBzTde-5ajw"
      }
    },
    {
      "cell_type": "markdown",
      "source": [
        "# Expected Results"
      ],
      "metadata": {
        "id": "xlwZ7MRh5bBX"
      }
    },
    {
      "cell_type": "markdown",
      "source": [
        "I am expecting to get between 70% to 80% accuracy on the test set."
      ],
      "metadata": {
        "id": "-2PB5A5a5dOX"
      }
    }
  ]
}