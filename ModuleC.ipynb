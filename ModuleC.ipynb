{
  "nbformat": 4,
  "nbformat_minor": 0,
  "metadata": {
    "colab": {
      "provenance": [],
      "authorship_tag": "ABX9TyM1UHsDk1GwbZ4bCZJVXF/X",
      "include_colab_link": true
    },
    "kernelspec": {
      "name": "python3",
      "display_name": "Python 3"
    },
    "language_info": {
      "name": "python"
    }
  },
  "cells": [
    {
      "cell_type": "markdown",
      "metadata": {
        "id": "view-in-github",
        "colab_type": "text"
      },
      "source": [
        "<a href=\"https://colab.research.google.com/github/pra961/MAT421/blob/main/ModuleC.ipynb\" target=\"_parent\"><img src=\"https://colab.research.google.com/assets/colab-badge.svg\" alt=\"Open In Colab\"/></a>"
      ]
    },
    {
      "cell_type": "markdown",
      "source": [
        "# Root Finding Problem Statement"
      ],
      "metadata": {
        "id": "zbiEw6JPt4fE"
      }
    },
    {
      "cell_type": "markdown",
      "source": [
        "The root of a function f(x) is a point x_r such that f(x_r) = 0."
      ],
      "metadata": {
        "id": "1fxwI9iLt7bh"
      }
    },
    {
      "cell_type": "markdown",
      "source": [
        "We can use Python to find the root of the function f(x) = cos(x) - 2x near -3."
      ],
      "metadata": {
        "id": "k2p9J2dnuVNv"
      }
    },
    {
      "cell_type": "code",
      "source": [
        "import numpy as np\n",
        "from scipy import optimize\n",
        "\n",
        "f = lambda x: np.cos(x) - 2*x\n",
        "r = optimize.fsolve(f, -3)\n",
        "print(\"r =\", r)\n",
        "\n",
        "result = f(r)\n",
        "print(\"result=\", result)"
      ],
      "metadata": {
        "colab": {
          "base_uri": "https://localhost:8080/"
        },
        "id": "eVsqU7JFuclh",
        "outputId": "b848818b-bb3a-4166-d784-18da204e7430"
      },
      "execution_count": 12,
      "outputs": [
        {
          "output_type": "stream",
          "name": "stdout",
          "text": [
            "r = [0.45018361]\n",
            "result= [0.]\n"
          ]
        }
      ]
    },
    {
      "cell_type": "markdown",
      "source": [
        "We can see above that the result equals 0, so r is a root."
      ],
      "metadata": {
        "id": "gKYqowdwunUv"
      }
    },
    {
      "cell_type": "markdown",
      "source": [
        "# Tolerance"
      ],
      "metadata": {
        "id": "QuZP1Bvyup8q"
      }
    },
    {
      "cell_type": "markdown",
      "source": [
        "Error is a deviation from an expected or computed value. Tolerance is the level of error that is acceptable for an engineering application."
      ],
      "metadata": {
        "id": "ds0FLH4LuuJK"
      }
    },
    {
      "cell_type": "markdown",
      "source": [
        "For computing roots, we want an x_r such that is f(x_r) very close to 0. Therefore |f(x)| is a possible choice for the measure of error since the smaller it is, the likelier we are to a root."
      ],
      "metadata": {
        "id": "s6ncM7Yyuzep"
      }
    },
    {
      "cell_type": "markdown",
      "source": [
        "# Bisection Method"
      ],
      "metadata": {
        "id": "61z1MAMwvJFQ"
      }
    },
    {
      "cell_type": "markdown",
      "source": [
        "The Intermediate Value Theorem states that if f(x) is a continuous function between a and b, and sign(f(a)) is not equal to sign(f(b)), then there must be a c, such that a < c < b and f(c) = 0."
      ],
      "metadata": {
        "id": "BHG5k469vu1D"
      }
    },
    {
      "cell_type": "markdown",
      "source": [
        "The bisection method uses the intermediate value theorem iteratively to nd roots."
      ],
      "metadata": {
        "id": "BEq19CSVv8oX"
      }
    },
    {
      "cell_type": "markdown",
      "source": [
        "The below function approximates a root r of f, bounded by a and b to within |f((a+b)/2)| < tolerance."
      ],
      "metadata": {
        "id": "wr1pKFPlwB22"
      }
    },
    {
      "cell_type": "code",
      "source": [
        "import numpy as np\n",
        "\n",
        "def my_bisection(f, a, b, tol):\n",
        "  if np.sign(f(a)) == np.sign(f(b)):\n",
        "    raise Exception(\"The scalars a and b do not bound a root\")\n",
        "\n",
        "  m = (a + b)/2\n",
        "  if np.abs(f(m)) < tol:\n",
        "    return m\n",
        "  elif np.sign(f(a)) == np.sign(f(m)):\n",
        "    return my_bisection(f, m, b, tol)\n",
        "  elif np.sign(f(b)) == np.sign(f(m)):\n",
        "    return my_bisection(f, a, m, tol)\n",
        "\n",
        "f = lambda x: x**2 - 2\n",
        "r1 = my_bisection(f, 0, 2, 0.1)\n",
        "print(\"r1 =\", r1)\n",
        "r01 = my_bisection(f, 0, 2, 0.01)\n",
        "print(\"r01 =\", r01)\n",
        "print(\"f(r1) =\", f(r1))\n",
        "print(\"f(r01) =\", f(r01))"
      ],
      "metadata": {
        "colab": {
          "base_uri": "https://localhost:8080/"
        },
        "id": "6R6WeMKZvKiS",
        "outputId": "f36f82d9-f0f8-4c18-eb82-d06984ad19df"
      },
      "execution_count": 13,
      "outputs": [
        {
          "output_type": "stream",
          "name": "stdout",
          "text": [
            "r1 = 1.4375\n",
            "r01 = 1.4140625\n",
            "f(r1) = 0.06640625\n",
            "f(r01) = -0.00042724609375\n"
          ]
        }
      ]
    },
    {
      "cell_type": "markdown",
      "source": [
        "We can see above that the values are very close to the square root of 2."
      ],
      "metadata": {
        "id": "CG6CVjoHwh5S"
      }
    },
    {
      "cell_type": "markdown",
      "source": [
        "# Newton-Raphson Method"
      ],
      "metadata": {
        "id": "vSSafq7vwk9-"
      }
    },
    {
      "cell_type": "markdown",
      "source": [
        "If f(x) is a smooth and continuous function, the Newton-Raphson method calculates a root by making guesses and repeatedly improving them."
      ],
      "metadata": {
        "id": "VA_OcPyjxBwY"
      }
    },
    {
      "cell_type": "markdown",
      "source": [
        "A Newton step computes an improved guess x_i using a previous guess x_(i-1) with the equation: x_i = x_(i-1) - g(x_(i-1))/g'(x_(i-1)). This is done repeatedly until the error is less than the tolerance."
      ],
      "metadata": {
        "id": "H-mjufN1xNv7"
      }
    },
    {
      "cell_type": "code",
      "source": [
        "import numpy as np\n",
        "\n",
        "f = lambda x: x**2 - 2\n",
        "f_prime = lambda x: 2*x\n",
        "newton_raphson = 1.4 - (f(1.4))/(f_prime(1.4))\n",
        "print(\"newton_raphson =\", newton_raphson)\n",
        "print(\"sqrt(2) =\", np.sqrt(2))"
      ],
      "metadata": {
        "colab": {
          "base_uri": "https://localhost:8080/"
        },
        "id": "KKKhA3_Lwoua",
        "outputId": "329d5f25-c7ce-457e-df00-b847244c2df9"
      },
      "execution_count": 16,
      "outputs": [
        {
          "output_type": "stream",
          "name": "stdout",
          "text": [
            "newton_raphson = 1.4142857142857144\n",
            "sqrt(2) = 1.4142135623730951\n"
          ]
        }
      ]
    },
    {
      "cell_type": "code",
      "source": [
        "def my_newton(f, df, x0, tol):\n",
        "  if abs(f(x0)) < tol:\n",
        "    return x0\n",
        "  else:\n",
        "    return my_newton(f, df, x0 - f(x0)/df(x0), tol)\n",
        "\n",
        "estimate = my_newton(f, f_prime, 1.5, 1e-6)\n",
        "print(\"estimate =\", estimate)\n",
        "print(\"sqrt(2) =\", np.sqrt(2))"
      ],
      "metadata": {
        "colab": {
          "base_uri": "https://localhost:8080/"
        },
        "id": "Uw3xuBegvAYe",
        "outputId": "03519fd9-efb3-404c-bc5f-878f1c6a63bf"
      },
      "execution_count": 17,
      "outputs": [
        {
          "output_type": "stream",
          "name": "stdout",
          "text": [
            "estimate = 1.4142135623746899\n",
            "sqrt(2) = 1.4142135623730951\n"
          ]
        }
      ]
    },
    {
      "cell_type": "markdown",
      "source": [
        "We can see above that the estimate is extremely close to the square root of 2."
      ],
      "metadata": {
        "id": "MTJTO9dpxqx_"
      }
    }
  ]
}