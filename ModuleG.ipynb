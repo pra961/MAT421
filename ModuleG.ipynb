{
  "nbformat": 4,
  "nbformat_minor": 0,
  "metadata": {
    "colab": {
      "provenance": [],
      "authorship_tag": "ABX9TyN8Ph1B5cbsE3o6/jVRcOZC",
      "include_colab_link": true
    },
    "kernelspec": {
      "name": "python3",
      "display_name": "Python 3"
    },
    "language_info": {
      "name": "python"
    }
  },
  "cells": [
    {
      "cell_type": "markdown",
      "metadata": {
        "id": "view-in-github",
        "colab_type": "text"
      },
      "source": [
        "<a href=\"https://colab.research.google.com/github/pra961/MAT421/blob/main/ModuleG.ipynb\" target=\"_parent\"><img src=\"https://colab.research.google.com/assets/colab-badge.svg\" alt=\"Open In Colab\"/></a>"
      ]
    },
    {
      "cell_type": "markdown",
      "source": [
        "## Numerical Integration Problem Statement"
      ],
      "metadata": {
        "id": "pFgcfHCOGsMd"
      }
    },
    {
      "cell_type": "markdown",
      "source": [
        "We want to approximate the integral of f(x) over the total interval [a, b]. To do this, we create n subintervals with spacing h = (b-a)/n."
      ],
      "metadata": {
        "id": "h-x8gc7whAoy"
      }
    },
    {
      "cell_type": "markdown",
      "source": [
        "# Riemann's Integral"
      ],
      "metadata": {
        "id": "uDzzKGwThbek"
      }
    },
    {
      "cell_type": "markdown",
      "source": [
        "The Riemann Integral approximates an integral by summing the area of rectangles for each subinterval. The height of each rectangle can be chosen at the left endpoint, the right endpoint, or the midpoint."
      ],
      "metadata": {
        "id": "7aGzv6T2he3P"
      }
    },
    {
      "cell_type": "markdown",
      "source": [
        "Left: sum from i=0 to i=n-1 of h*f(x_i)"
      ],
      "metadata": {
        "id": "k1pZkpkBiJz5"
      }
    },
    {
      "cell_type": "markdown",
      "source": [
        "Right: sum from i=1 to i=n of h*f(x_i)"
      ],
      "metadata": {
        "id": "oiGpc15TiOFb"
      }
    },
    {
      "cell_type": "markdown",
      "source": [
        "Midpoint: sum from i=0 to i=n-1 of h*f((x_(i+1) + x_i)/2)"
      ],
      "metadata": {
        "id": "EX7Ni4CDiVgw"
      }
    },
    {
      "cell_type": "code",
      "source": [
        "import numpy as np\n",
        "\n",
        "a = 0\n",
        "b = np.pi\n",
        "n = 11\n",
        "h = (b - a) / (n - 1)\n",
        "x = np.linspace(a, b, n)\n",
        "f = np.sin(x)\n",
        "\n",
        "I_riemannL = h * sum(f[:n-1])\n",
        "err_riemannL = 2 - I_riemannL\n",
        "I_riemannR = h * sum(f[1::])\n",
        "err_riemannR = 2 - I_riemannR\n",
        "I_mid = h * sum(np.sin((x[:n-1] + x[1:])/2))\n",
        "err_mid = 2 - I_mid\n",
        "\n",
        "print(I_riemannL)\n",
        "print(err_riemannL)\n",
        "print(I_riemannR)\n",
        "print(err_riemannR)\n",
        "print(I_mid)\n",
        "print(err_mid)"
      ],
      "metadata": {
        "colab": {
          "base_uri": "https://localhost:8080/"
        },
        "id": "DCQZGHy7Gtv4",
        "outputId": "64694fe3-4436-473a-ddd0-afdb375adee9"
      },
      "execution_count": 1,
      "outputs": [
        {
          "output_type": "stream",
          "name": "stdout",
          "text": [
            "1.9835235375094546\n",
            "0.01647646249054535\n",
            "1.9835235375094546\n",
            "0.01647646249054535\n",
            "2.0082484079079745\n",
            "-0.008248407907974542\n"
          ]
        }
      ]
    },
    {
      "cell_type": "markdown",
      "source": [
        "The above shows the error from the Riemann integral using the left endpoint, right endpoint, and midpoint."
      ],
      "metadata": {
        "id": "S6YpwZVliol0"
      }
    },
    {
      "cell_type": "markdown",
      "source": [
        "# Trapezoid Rule"
      ],
      "metadata": {
        "id": "kquGTehBisv8"
      }
    },
    {
      "cell_type": "markdown",
      "source": [
        "The Trapezoid Rule fits a trapezoid into each subinterval and sums the area of each trapezoid to approximate the total integral."
      ],
      "metadata": {
        "id": "-z63ojWpixUX"
      }
    },
    {
      "cell_type": "markdown",
      "source": [
        "The formula is the sum from i=0 to i=n-1 of h*(f(x_i) + f(x_(i+1)))/2"
      ],
      "metadata": {
        "id": "mzI_LWjAjI3y"
      }
    },
    {
      "cell_type": "code",
      "source": [
        "I_trap = (h/2)*(f[0] + 2 * sum(f[1:n-1]) + f[n-1])\n",
        "err_trap = 2 - I_trap\n",
        "\n",
        "print(I_trap)\n",
        "print(err_trap)"
      ],
      "metadata": {
        "colab": {
          "base_uri": "https://localhost:8080/"
        },
        "id": "SmeOIJdhjVIh",
        "outputId": "17097a57-56e4-418b-f7c4-460bc0ebf091"
      },
      "execution_count": 2,
      "outputs": [
        {
          "output_type": "stream",
          "name": "stdout",
          "text": [
            "1.9835235375094546\n",
            "0.01647646249054535\n"
          ]
        }
      ]
    },
    {
      "cell_type": "markdown",
      "source": [
        "The above shows the error using the Trapezoid rule."
      ],
      "metadata": {
        "id": "AIwyaBNxjbbq"
      }
    }
  ]
}