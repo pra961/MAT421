{
  "nbformat": 4,
  "nbformat_minor": 0,
  "metadata": {
    "colab": {
      "provenance": [],
      "authorship_tag": "ABX9TyN9wSfJUSOGrA6qL2EnfvkG",
      "include_colab_link": true
    },
    "kernelspec": {
      "name": "python3",
      "display_name": "Python 3"
    },
    "language_info": {
      "name": "python"
    }
  },
  "cells": [
    {
      "cell_type": "markdown",
      "metadata": {
        "id": "view-in-github",
        "colab_type": "text"
      },
      "source": [
        "<a href=\"https://colab.research.google.com/github/pra961/MAT421/blob/main/ModuleA.ipynb\" target=\"_parent\"><img src=\"https://colab.research.google.com/assets/colab-badge.svg\" alt=\"Open In Colab\"/></a>"
      ]
    },
    {
      "cell_type": "markdown",
      "source": [
        "# 9.1 Base-N and Binary"
      ],
      "metadata": {
        "id": "u7rbwnS5dAEb"
      }
    },
    {
      "cell_type": "markdown",
      "source": [
        "Decimal Number System - traditional number system, digits 0 through 9, each digit represents a number to the power of 10 (base 10)"
      ],
      "metadata": {
        "id": "ZjZyuMxTdsy0"
      }
    },
    {
      "cell_type": "markdown",
      "source": [
        "25 = 2\\*10^1 + 5\\*10^0"
      ],
      "metadata": {
        "id": "Z48VcgKoeH_A"
      }
    },
    {
      "cell_type": "code",
      "source": [
        "25 == (2*(10**1)) + (5*(10**0))"
      ],
      "metadata": {
        "colab": {
          "base_uri": "https://localhost:8080/",
          "height": 0
        },
        "id": "a79ZGiP5dftU",
        "outputId": "6954b6aa-41f8-4751-b3e8-ea37cbbaf2c0"
      },
      "execution_count": 1,
      "outputs": [
        {
          "output_type": "execute_result",
          "data": {
            "text/plain": [
              "True"
            ]
          },
          "metadata": {},
          "execution_count": 1
        }
      ]
    },
    {
      "cell_type": "markdown",
      "source": [
        "Binary - base 2 number system, only digits allowed are 0 and 1, each digit represents a number to the power of 2, each digit in a binary number is called a bit"
      ],
      "metadata": {
        "id": "JJtKSp6KeeQB"
      }
    },
    {
      "cell_type": "markdown",
      "source": [
        "30 (base 10) = 1\\*2^4 + 1\\*2^3 + 1\\*2^2 + 1\\*2^1 + 0\\*2^0 = 11110 (base 2)"
      ],
      "metadata": {
        "id": "tAxNGc1Oey7U"
      }
    },
    {
      "cell_type": "code",
      "source": [
        "bin(30)"
      ],
      "metadata": {
        "colab": {
          "base_uri": "https://localhost:8080/",
          "height": 35
        },
        "id": "Xr49q72mep7V",
        "outputId": "738d3af8-ade8-4e3c-f67e-17bcdb018146"
      },
      "execution_count": 2,
      "outputs": [
        {
          "output_type": "execute_result",
          "data": {
            "text/plain": [
              "'0b11110'"
            ],
            "application/vnd.google.colaboratory.intrinsic+json": {
              "type": "string"
            }
          },
          "metadata": {},
          "execution_count": 2
        }
      ]
    },
    {
      "cell_type": "markdown",
      "source": [
        "6 (base 10) = 1\\*2^2 + 1\\*2^1 + 0\\*2^0 = 110 (base 2)"
      ],
      "metadata": {
        "id": "jQM4ydk1ffLL"
      }
    },
    {
      "cell_type": "code",
      "source": [
        "bin(6)"
      ],
      "metadata": {
        "colab": {
          "base_uri": "https://localhost:8080/",
          "height": 35
        },
        "id": "BjZZya5nftkZ",
        "outputId": "3e59ca0f-c5dc-49d0-b5f2-eab004f9727f"
      },
      "execution_count": 3,
      "outputs": [
        {
          "output_type": "execute_result",
          "data": {
            "text/plain": [
              "'0b110'"
            ],
            "application/vnd.google.colaboratory.intrinsic+json": {
              "type": "string"
            }
          },
          "metadata": {},
          "execution_count": 3
        }
      ]
    },
    {
      "cell_type": "markdown",
      "source": [
        "30 + 6 = 36\n"
      ],
      "metadata": {
        "id": "ONBwiI--f0sC"
      }
    },
    {
      "cell_type": "markdown",
      "source": [
        "30 * 6 = 180"
      ],
      "metadata": {
        "id": "ZTXkWOUaf4vw"
      }
    },
    {
      "cell_type": "code",
      "source": [
        "first = 0b11110\n",
        "second = 0b110\n",
        "print(first + second)\n",
        "print(first * second)"
      ],
      "metadata": {
        "colab": {
          "base_uri": "https://localhost:8080/",
          "height": 0
        },
        "id": "xdEUeah7f36R",
        "outputId": "7939d2b5-ec83-4bd6-f236-52b3df39148e"
      },
      "execution_count": 7,
      "outputs": [
        {
          "output_type": "stream",
          "name": "stdout",
          "text": [
            "36\n",
            "180\n"
          ]
        }
      ]
    },
    {
      "cell_type": "markdown",
      "source": [
        "# 9.2 - Floating Point Numbers"
      ],
      "metadata": {
        "id": "GdYGdF8sgryd"
      }
    },
    {
      "cell_type": "markdown",
      "source": [
        "Floating Point - numbers with a decimal point, sign indicator tells whether a number is positive or negative, exponent is the power of 2, fraction is coefficient of exponent"
      ],
      "metadata": {
        "id": "YpnMo3YIgzNs"
      }
    },
    {
      "cell_type": "code",
      "source": [
        "import sys\n",
        "sys.float_info"
      ],
      "metadata": {
        "colab": {
          "base_uri": "https://localhost:8080/"
        },
        "id": "bY8xHUCEgywQ",
        "outputId": "130e5055-042b-45f9-adf3-17c0c4156ec3"
      },
      "execution_count": 8,
      "outputs": [
        {
          "output_type": "execute_result",
          "data": {
            "text/plain": [
              "sys.float_info(max=1.7976931348623157e+308, max_exp=1024, max_10_exp=308, min=2.2250738585072014e-308, min_exp=-1021, min_10_exp=-307, dig=15, mant_dig=53, epsilon=2.220446049250313e-16, radix=2, rounds=1)"
            ]
          },
          "metadata": {},
          "execution_count": 8
        }
      ]
    },
    {
      "cell_type": "code",
      "source": [
        "import numpy as np\n",
        "np.spacing(1e9)"
      ],
      "metadata": {
        "colab": {
          "base_uri": "https://localhost:8080/"
        },
        "id": "ANrkfvxqheix",
        "outputId": "fed1816f-ee40-4141-843e-096e60dc3e70"
      },
      "execution_count": 9,
      "outputs": [
        {
          "output_type": "execute_result",
          "data": {
            "text/plain": [
              "1.1920928955078125e-07"
            ]
          },
          "metadata": {},
          "execution_count": 9
        }
      ]
    },
    {
      "cell_type": "code",
      "source": [
        "1e9 == (1e9 + np.spacing(1e9)/3)"
      ],
      "metadata": {
        "colab": {
          "base_uri": "https://localhost:8080/"
        },
        "id": "xmq1NtGehirg",
        "outputId": "13f64f61-7c11-4572-f1e6-b70ecda0d70a"
      },
      "execution_count": 10,
      "outputs": [
        {
          "output_type": "execute_result",
          "data": {
            "text/plain": [
              "True"
            ]
          },
          "metadata": {},
          "execution_count": 10
        }
      ]
    },
    {
      "cell_type": "markdown",
      "source": [
        "We can see that adding a number less than half the gap to 1e9 results in the same number."
      ],
      "metadata": {
        "id": "Wkkr3Si5hv76"
      }
    },
    {
      "cell_type": "code",
      "source": [
        "largest = (2**(2046-1023))*((1 + sum(0.5**np.arange(1, 53))))\n",
        "largest"
      ],
      "metadata": {
        "colab": {
          "base_uri": "https://localhost:8080/"
        },
        "id": "t9vXEwTIhmnQ",
        "outputId": "d7656b93-42b0-42bd-d055-6d99db2388df"
      },
      "execution_count": 11,
      "outputs": [
        {
          "output_type": "execute_result",
          "data": {
            "text/plain": [
              "1.7976931348623157e+308"
            ]
          },
          "metadata": {},
          "execution_count": 11
        }
      ]
    },
    {
      "cell_type": "code",
      "source": [
        "sys.float_info.max"
      ],
      "metadata": {
        "colab": {
          "base_uri": "https://localhost:8080/"
        },
        "id": "RkBziAGmhjlK",
        "outputId": "90f32c9c-1600-4868-aca1-a2aaa61eb9b3"
      },
      "execution_count": 12,
      "outputs": [
        {
          "output_type": "execute_result",
          "data": {
            "text/plain": [
              "1.7976931348623157e+308"
            ]
          },
          "metadata": {},
          "execution_count": 12
        }
      ]
    },
    {
      "cell_type": "markdown",
      "source": [
        "We can see that the above two are equal."
      ],
      "metadata": {
        "id": "yh4RIgEXhpdD"
      }
    },
    {
      "cell_type": "code",
      "source": [
        "smallest = (2**(1-1023))*(1+0)\n",
        "smallest"
      ],
      "metadata": {
        "colab": {
          "base_uri": "https://localhost:8080/"
        },
        "id": "w0W6D3aHhrqW",
        "outputId": "c5cd43f3-dc09-4c34-a121-d8835ae1e978"
      },
      "execution_count": 13,
      "outputs": [
        {
          "output_type": "execute_result",
          "data": {
            "text/plain": [
              "2.2250738585072014e-308"
            ]
          },
          "metadata": {},
          "execution_count": 13
        }
      ]
    },
    {
      "cell_type": "code",
      "source": [
        "sys.float_info.min"
      ],
      "metadata": {
        "colab": {
          "base_uri": "https://localhost:8080/"
        },
        "id": "oUWWQ5loh3Jv",
        "outputId": "5d6c34f0-2b04-45f9-e5ff-348a2ed07c7e"
      },
      "execution_count": 14,
      "outputs": [
        {
          "output_type": "execute_result",
          "data": {
            "text/plain": [
              "2.2250738585072014e-308"
            ]
          },
          "metadata": {},
          "execution_count": 14
        }
      ]
    },
    {
      "cell_type": "markdown",
      "source": [
        "We again see that the smallest and min are equal."
      ],
      "metadata": {
        "id": "gw2SVHUmhSyh"
      }
    },
    {
      "cell_type": "code",
      "source": [
        "sys.float_info.max + 2 == sys.float_info.max"
      ],
      "metadata": {
        "colab": {
          "base_uri": "https://localhost:8080/"
        },
        "id": "cKt5wzFhh6VC",
        "outputId": "2391f6e9-05f3-4881-ff6c-b10f55cb20a7"
      },
      "execution_count": 15,
      "outputs": [
        {
          "output_type": "execute_result",
          "data": {
            "text/plain": [
              "True"
            ]
          },
          "metadata": {},
          "execution_count": 15
        }
      ]
    },
    {
      "cell_type": "markdown",
      "source": [
        "Adding a number to max doesn't change it, as shown above."
      ],
      "metadata": {
        "id": "3L8p1hjBh-lF"
      }
    },
    {
      "cell_type": "code",
      "source": [
        "sys.float_info.max + sys.float_info.max"
      ],
      "metadata": {
        "colab": {
          "base_uri": "https://localhost:8080/"
        },
        "id": "hT-7XDSpiBB_",
        "outputId": "6c6e56b5-a441-46ee-8270-696f694ff44d"
      },
      "execution_count": 16,
      "outputs": [
        {
          "output_type": "execute_result",
          "data": {
            "text/plain": [
              "inf"
            ]
          },
          "metadata": {},
          "execution_count": 16
        }
      ]
    },
    {
      "cell_type": "markdown",
      "source": [
        "Adding max to itself results in infinity, as shown above."
      ],
      "metadata": {
        "id": "oEYckoEFiD62"
      }
    },
    {
      "cell_type": "code",
      "source": [
        "2**(-1075) == 0"
      ],
      "metadata": {
        "colab": {
          "base_uri": "https://localhost:8080/"
        },
        "id": "KW6SlPdmiKXc",
        "outputId": "dd8666f7-83bc-4a31-9c58-06885d13cd88"
      },
      "execution_count": 17,
      "outputs": [
        {
          "output_type": "execute_result",
          "data": {
            "text/plain": [
              "True"
            ]
          },
          "metadata": {},
          "execution_count": 17
        }
      ]
    },
    {
      "cell_type": "code",
      "source": [
        "2**(-1074)"
      ],
      "metadata": {
        "colab": {
          "base_uri": "https://localhost:8080/"
        },
        "id": "pLlp1yaFiMAN",
        "outputId": "e10aead8-8f42-4713-84a8-8ed1602d5a9d"
      },
      "execution_count": 18,
      "outputs": [
        {
          "output_type": "execute_result",
          "data": {
            "text/plain": [
              "5e-324"
            ]
          },
          "metadata": {},
          "execution_count": 18
        }
      ]
    },
    {
      "cell_type": "markdown",
      "source": [
        "The above code shows us that 2^-1074 is the limit for subnormal numbers."
      ],
      "metadata": {
        "id": "4GobxuStiMxg"
      }
    },
    {
      "cell_type": "markdown",
      "source": [
        "# 9.3 - Round-off Errors"
      ],
      "metadata": {
        "id": "xPgeeOLviUA8"
      }
    },
    {
      "cell_type": "markdown",
      "source": [
        "The difference between a number's true value and its stored value on the computer is known as a round-off error."
      ],
      "metadata": {
        "id": "0YDSxWPzid5M"
      }
    },
    {
      "cell_type": "code",
      "source": [
        "4.9 - 4.845 == 0.055"
      ],
      "metadata": {
        "colab": {
          "base_uri": "https://localhost:8080/"
        },
        "id": "_Ffl-_l8isI5",
        "outputId": "3f24ae10-c3d3-4e81-8f3b-13f3ec4eb3b0"
      },
      "execution_count": 19,
      "outputs": [
        {
          "output_type": "execute_result",
          "data": {
            "text/plain": [
              "False"
            ]
          },
          "metadata": {},
          "execution_count": 19
        }
      ]
    },
    {
      "cell_type": "code",
      "source": [
        "4.9 - 4.845"
      ],
      "metadata": {
        "colab": {
          "base_uri": "https://localhost:8080/"
        },
        "id": "9d-v-hF4is14",
        "outputId": "d9b05fd1-2546-432b-d632-b9a0cf3845a0"
      },
      "execution_count": 20,
      "outputs": [
        {
          "output_type": "execute_result",
          "data": {
            "text/plain": [
              "0.055000000000000604"
            ]
          },
          "metadata": {},
          "execution_count": 20
        }
      ]
    },
    {
      "cell_type": "markdown",
      "source": [
        "We can see above that the difference isn't exactly 0.055"
      ],
      "metadata": {
        "id": "yj-WO6nPivXg"
      }
    },
    {
      "cell_type": "code",
      "source": [
        "round(4.9 - 4.845, 5) == round(0.055, 5)"
      ],
      "metadata": {
        "colab": {
          "base_uri": "https://localhost:8080/"
        },
        "id": "z_Trz5yzixtk",
        "outputId": "60601768-ed05-4bcc-ef0a-646ffda8072e"
      },
      "execution_count": 21,
      "outputs": [
        {
          "output_type": "execute_result",
          "data": {
            "text/plain": [
              "True"
            ]
          },
          "metadata": {},
          "execution_count": 21
        }
      ]
    },
    {
      "cell_type": "markdown",
      "source": [
        "We can see that rounding can help mitigate round-off errors."
      ],
      "metadata": {
        "id": "WKVGkOQ8i7Ia"
      }
    },
    {
      "cell_type": "markdown",
      "source": [
        "Round off errors accumulate the more times calculation is done."
      ],
      "metadata": {
        "id": "QAuR30pfjE_y"
      }
    },
    {
      "cell_type": "code",
      "source": [
        "def add_and_subtract(iterations):\n",
        "  result = 1\n",
        "  for i in range(iterations):\n",
        "    result += 1/3\n",
        "  for i in range(iterations):\n",
        "    result -= 1/3\n",
        "  return result"
      ],
      "metadata": {
        "id": "wQA3rPW9i9rC"
      },
      "execution_count": 23,
      "outputs": []
    },
    {
      "cell_type": "code",
      "source": [
        "add_and_subtract(100)"
      ],
      "metadata": {
        "colab": {
          "base_uri": "https://localhost:8080/"
        },
        "id": "fJnirDE1iTlo",
        "outputId": "1e8970b0-93dc-48d9-87c8-88ec2d8fb352"
      },
      "execution_count": 24,
      "outputs": [
        {
          "output_type": "execute_result",
          "data": {
            "text/plain": [
              "1.0000000000000002"
            ]
          },
          "metadata": {},
          "execution_count": 24
        }
      ]
    },
    {
      "cell_type": "code",
      "source": [
        "add_and_subtract(10000)"
      ],
      "metadata": {
        "colab": {
          "base_uri": "https://localhost:8080/"
        },
        "id": "dbt94e1kjOeq",
        "outputId": "ed032db5-2b09-4aa0-91a5-aec541198e78"
      },
      "execution_count": 25,
      "outputs": [
        {
          "output_type": "execute_result",
          "data": {
            "text/plain": [
              "1.0000000000001166"
            ]
          },
          "metadata": {},
          "execution_count": 25
        }
      ]
    },
    {
      "cell_type": "markdown",
      "source": [
        "We can see above that the round-off error increases when repeated 10000 times vs. only 100 times."
      ],
      "metadata": {
        "id": "jBCEij_FjQF7"
      }
    }
  ]
}